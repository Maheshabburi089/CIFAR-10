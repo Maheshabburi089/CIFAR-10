{
  "cells": [
    {
      "cell_type": "code",
      "execution_count": 1,
      "id": "3dc89f05",
      "metadata": {
        "execution": {
          "iopub.execute_input": "2022-11-02T22:30:02.535606Z",
          "iopub.status.busy": "2022-11-02T22:30:02.535075Z",
          "iopub.status.idle": "2022-11-02T22:30:02.549005Z",
          "shell.execute_reply": "2022-11-02T22:30:02.548140Z"
        },
        "id": "3dc89f05",
        "papermill": {
          "duration": 0.029402,
          "end_time": "2022-11-02T22:30:02.551155",
          "exception": false,
          "start_time": "2022-11-02T22:30:02.521753",
          "status": "completed"
        },
        "tags": []
      },
      "outputs": [],
      "source": [
        "import pandas as pd\n",
        "import numpy as np\n",
        "import matplotlib.pyplot as plt\n",
        "%matplotlib inline"
      ]
    },
    {
      "cell_type": "code",
      "execution_count": 3,
      "id": "9cccd708",
      "metadata": {
        "execution": {
          "iopub.execute_input": "2022-11-02T22:30:02.567056Z",
          "iopub.status.busy": "2022-11-02T22:30:02.566217Z",
          "iopub.status.idle": "2022-11-02T22:30:07.602754Z",
          "shell.execute_reply": "2022-11-02T22:30:07.601742Z"
        },
        "id": "9cccd708",
        "papermill": {
          "duration": 5.046818,
          "end_time": "2022-11-02T22:30:07.605155",
          "exception": false,
          "start_time": "2022-11-02T22:30:02.558337",
          "status": "completed"
        },
        "tags": []
      },
      "outputs": [],
      "source": [
        "from tensorflow.keras.datasets import cifar10\n",
        "import tensorflow as tf\n",
        "from tensorflow.keras import datasets, layers, models\n"
      ]
    },
    {
      "cell_type": "code",
      "execution_count": 4,
      "id": "k_oyPo9wIyn5",
      "metadata": {
        "colab": {
          "base_uri": "https://localhost:8080/"
        },
        "id": "k_oyPo9wIyn5",
        "outputId": "3ee1424c-9f8d-438e-dc6c-4756544c37d6"
      },
      "outputs": [
        {
          "name": "stdout",
          "output_type": "stream",
          "text": [
            "Downloading data from https://www.cs.toronto.edu/~kriz/cifar-10-python.tar.gz\n",
            "170498071/170498071 [==============================] - 3s 0us/step\n"
          ]
        },
        {
          "data": {
            "text/plain": [
              "(50000, 32, 32, 3)"
            ]
          },
          "execution_count": 4,
          "metadata": {},
          "output_type": "execute_result"
        }
      ],
      "source": [
        "(X_train, y_train), (X_test,y_test) = datasets.cifar10.load_data()\n",
        "X_train.shape\n"
      ]
    },
    {
      "cell_type": "code",
      "execution_count": 8,
      "id": "dY_jy9gbIyqz",
      "metadata": {
        "colab": {
          "base_uri": "https://localhost:8080/"
        },
        "id": "dY_jy9gbIyqz",
        "outputId": "73499bfa-a159-470a-e3bb-12242e76e2f9"
      },
      "outputs": [
        {
          "data": {
            "text/plain": [
              "array([6, 9, 9, 4, 1], dtype=uint8)"
            ]
          },
          "execution_count": 8,
          "metadata": {},
          "output_type": "execute_result"
        }
      ],
      "source": [
        "y_train = y_train.reshape(-1,)\n",
        "y_train[:5]\n",
        "\n"
      ]
    },
    {
      "cell_type": "code",
      "execution_count": 9,
      "id": "U_WCzG5bIyxT",
      "metadata": {
        "id": "U_WCzG5bIyxT"
      },
      "outputs": [],
      "source": [
        "y_test = y_test.reshape(-1,)"
      ]
    },
    {
      "cell_type": "code",
      "execution_count": 10,
      "id": "p6RWTeMbJUAt",
      "metadata": {
        "id": "p6RWTeMbJUAt"
      },
      "outputs": [],
      "source": [
        "classes = [\"airplane\",\"automobile\",\"bird\",\"cat\",\"deer\",\"dog\",\"frog\",\"horse\",\"ship\",\"truck\"]"
      ]
    },
    {
      "cell_type": "code",
      "execution_count": 12,
      "id": "Ip3eLZ9uJUDc",
      "metadata": {
        "id": "Ip3eLZ9uJUDc"
      },
      "outputs": [],
      "source": [
        "X_train = X_train / 255.0\n",
        "X_test = X_test / 255.0\n",
        "\n"
      ]
    },
    {
      "cell_type": "code",
      "execution_count": 13,
      "id": "49fBPT8cJUGD",
      "metadata": {
        "colab": {
          "base_uri": "https://localhost:8080/"
        },
        "id": "49fBPT8cJUGD",
        "outputId": "1957a5a8-b526-427e-ff79-48cacdc9db18"
      },
      "outputs": [
        {
          "name": "stdout",
          "output_type": "stream",
          "text": [
            "Epoch 1/30\n",
            "1563/1563 [==============================] - 8s 4ms/step - loss: 1.8091 - accuracy: 0.3570\n",
            "Epoch 2/30\n",
            "1563/1563 [==============================] - 6s 4ms/step - loss: 1.6205 - accuracy: 0.4290\n",
            "Epoch 3/30\n",
            "1563/1563 [==============================] - 6s 4ms/step - loss: 1.5393 - accuracy: 0.4566\n",
            "Epoch 4/30\n",
            "1563/1563 [==============================] - 6s 4ms/step - loss: 1.4795 - accuracy: 0.4778\n",
            "Epoch 5/30\n",
            "1563/1563 [==============================] - 6s 4ms/step - loss: 1.4293 - accuracy: 0.4979\n",
            "Epoch 6/30\n",
            "1563/1563 [==============================] - 6s 4ms/step - loss: 1.3886 - accuracy: 0.5122\n",
            "Epoch 7/30\n",
            "1563/1563 [==============================] - 6s 4ms/step - loss: 1.3486 - accuracy: 0.5242\n",
            "Epoch 8/30\n",
            "1563/1563 [==============================] - 6s 4ms/step - loss: 1.3169 - accuracy: 0.5375\n",
            "Epoch 9/30\n",
            "1563/1563 [==============================] - 6s 4ms/step - loss: 1.2820 - accuracy: 0.5490\n",
            "Epoch 10/30\n",
            "1563/1563 [==============================] - 6s 4ms/step - loss: 1.2503 - accuracy: 0.5619\n",
            "Epoch 11/30\n",
            "1563/1563 [==============================] - 6s 4ms/step - loss: 1.2215 - accuracy: 0.5722\n",
            "Epoch 12/30\n",
            "1563/1563 [==============================] - 6s 4ms/step - loss: 1.1931 - accuracy: 0.5828\n",
            "Epoch 13/30\n",
            "1563/1563 [==============================] - 6s 4ms/step - loss: 1.1677 - accuracy: 0.5928\n",
            "Epoch 14/30\n",
            "1563/1563 [==============================] - 7s 4ms/step - loss: 1.1384 - accuracy: 0.6039\n",
            "Epoch 15/30\n",
            "1563/1563 [==============================] - 6s 4ms/step - loss: 1.1121 - accuracy: 0.6156\n",
            "Epoch 16/30\n",
            "1563/1563 [==============================] - 6s 4ms/step - loss: 1.0849 - accuracy: 0.6236\n",
            "Epoch 17/30\n",
            "1563/1563 [==============================] - 6s 4ms/step - loss: 1.0610 - accuracy: 0.6315\n",
            "Epoch 18/30\n",
            "1563/1563 [==============================] - 6s 4ms/step - loss: 1.0358 - accuracy: 0.6395\n",
            "Epoch 19/30\n",
            "1563/1563 [==============================] - 6s 4ms/step - loss: 1.0099 - accuracy: 0.6500\n",
            "Epoch 20/30\n",
            "1563/1563 [==============================] - 6s 4ms/step - loss: 0.9815 - accuracy: 0.6612\n",
            "Epoch 21/30\n",
            "1563/1563 [==============================] - 6s 4ms/step - loss: 0.9550 - accuracy: 0.6693\n",
            "Epoch 22/30\n",
            "1563/1563 [==============================] - 6s 4ms/step - loss: 0.9306 - accuracy: 0.6787\n",
            "Epoch 23/30\n",
            "1563/1563 [==============================] - 6s 4ms/step - loss: 0.9047 - accuracy: 0.6891\n",
            "Epoch 24/30\n",
            "1563/1563 [==============================] - 6s 4ms/step - loss: 0.8813 - accuracy: 0.6951\n",
            "Epoch 25/30\n",
            "1563/1563 [==============================] - 6s 4ms/step - loss: 0.8545 - accuracy: 0.7052\n",
            "Epoch 26/30\n",
            "1563/1563 [==============================] - 6s 4ms/step - loss: 0.8302 - accuracy: 0.7131\n",
            "Epoch 27/30\n",
            "1563/1563 [==============================] - 6s 4ms/step - loss: 0.8042 - accuracy: 0.7240\n",
            "Epoch 28/30\n",
            "1563/1563 [==============================] - 6s 4ms/step - loss: 0.7790 - accuracy: 0.7327\n",
            "Epoch 29/30\n",
            "1563/1563 [==============================] - 6s 4ms/step - loss: 0.7509 - accuracy: 0.7435\n",
            "Epoch 30/30\n",
            "1563/1563 [==============================] - 6s 4ms/step - loss: 0.7291 - accuracy: 0.7519\n"
          ]
        },
        {
          "data": {
            "text/plain": [
              "<keras.callbacks.History at 0x7fd9c444eca0>"
            ]
          },
          "execution_count": 13,
          "metadata": {},
          "output_type": "execute_result"
        }
      ],
      "source": [
        "ann = models.Sequential([\n",
        "        layers.Flatten(input_shape=(32,32,3)),\n",
        "        layers.Dense(3000, activation='relu'),\n",
        "        layers.Dense(1000, activation='relu'),\n",
        "        layers.Dense(10, activation='softmax')    \n",
        "    ])\n",
        "\n",
        "ann.compile(optimizer='SGD',\n",
        "              loss='sparse_categorical_crossentropy',\n",
        "              metrics=['accuracy'])\n",
        "\n",
        "ann.fit(X_train, y_train, epochs=30)"
      ]
    },
    {
      "cell_type": "code",
      "execution_count": 14,
      "id": "04ULtBlrJULE",
      "metadata": {
        "colab": {
          "base_uri": "https://localhost:8080/"
        },
        "id": "04ULtBlrJULE",
        "outputId": "93a8bfcf-cae7-4cee-c9a9-09c2ee4a9dbe"
      },
      "outputs": [
        {
          "name": "stdout",
          "output_type": "stream",
          "text": [
            "313/313 [==============================] - 1s 2ms/step\n",
            "Classification Report: \n",
            "               precision    recall  f1-score   support\n",
            "\n",
            "           0       0.62      0.62      0.62      1000\n",
            "           1       0.67      0.68      0.67      1000\n",
            "           2       0.58      0.28      0.37      1000\n",
            "           3       0.39      0.31      0.35      1000\n",
            "           4       0.59      0.38      0.46      1000\n",
            "           5       0.37      0.63      0.47      1000\n",
            "           6       0.55      0.72      0.62      1000\n",
            "           7       0.63      0.59      0.61      1000\n",
            "           8       0.73      0.65      0.68      1000\n",
            "           9       0.54      0.67      0.60      1000\n",
            "\n",
            "    accuracy                           0.55     10000\n",
            "   macro avg       0.57      0.55      0.55     10000\n",
            "weighted avg       0.57      0.55      0.55     10000\n",
            "\n"
          ]
        }
      ],
      "source": [
        "from sklearn.metrics import confusion_matrix , classification_report\n",
        "import numpy as np\n",
        "y_pred = ann.predict(X_test)\n",
        "y_pred_classes = [np.argmax(element) for element in y_pred]\n",
        "\n",
        "print(\"Classification Report: \\n\", classification_report(y_test, y_pred_classes))"
      ]
    },
    {
      "cell_type": "code",
      "execution_count": null,
      "id": "9MpS7uDCJUNz",
      "metadata": {
        "id": "9MpS7uDCJUNz"
      },
      "outputs": [],
      "source": []
    },
    {
      "cell_type": "code",
      "execution_count": null,
      "id": "KQ2TsTWkJUQW",
      "metadata": {
        "id": "KQ2TsTWkJUQW"
      },
      "outputs": [],
      "source": []
    },
    {
      "cell_type": "code",
      "execution_count": null,
      "id": "eb95d390",
      "metadata": {
        "colab": {
          "base_uri": "https://localhost:8080/"
        },
        "execution": {
          "iopub.execute_input": "2022-11-02T22:30:07.621381Z",
          "iopub.status.busy": "2022-11-02T22:30:07.620853Z",
          "iopub.status.idle": "2022-11-02T22:30:22.185295Z",
          "shell.execute_reply": "2022-11-02T22:30:22.184341Z"
        },
        "id": "eb95d390",
        "outputId": "cae7a79e-3bd8-48cf-f806-9f1fccd300f6",
        "papermill": {
          "duration": 14.575442,
          "end_time": "2022-11-02T22:30:22.187929",
          "exception": false,
          "start_time": "2022-11-02T22:30:07.612487",
          "status": "completed"
        },
        "tags": []
      },
      "outputs": [
        {
          "name": "stdout",
          "output_type": "stream",
          "text": [
            "Downloading data from https://www.cs.toronto.edu/~kriz/cifar-10-python.tar.gz\n",
            "170498071/170498071 [==============================] - 14s 0us/step\n"
          ]
        }
      ],
      "source": [
        "(X_train,y_train) , (X_test, y_test) = cifar10.load_data()"
      ]
    },
    {
      "cell_type": "code",
      "execution_count": null,
      "id": "202c1374",
      "metadata": {
        "colab": {
          "base_uri": "https://localhost:8080/"
        },
        "execution": {
          "iopub.execute_input": "2022-11-02T22:30:22.218992Z",
          "iopub.status.busy": "2022-11-02T22:30:22.218685Z",
          "iopub.status.idle": "2022-11-02T22:30:22.226597Z",
          "shell.execute_reply": "2022-11-02T22:30:22.225589Z"
        },
        "id": "202c1374",
        "outputId": "dd9352d5-a033-408c-e6b8-891e01bb7012",
        "papermill": {
          "duration": 0.027576,
          "end_time": "2022-11-02T22:30:22.230047",
          "exception": false,
          "start_time": "2022-11-02T22:30:22.202471",
          "status": "completed"
        },
        "tags": []
      },
      "outputs": [
        {
          "data": {
            "text/plain": [
              "(50000, 32, 32, 3)"
            ]
          },
          "execution_count": 4,
          "metadata": {},
          "output_type": "execute_result"
        }
      ],
      "source": [
        "X_train.shape"
      ]
    },
    {
      "cell_type": "code",
      "execution_count": null,
      "id": "8c3e6d8a",
      "metadata": {
        "colab": {
          "base_uri": "https://localhost:8080/"
        },
        "execution": {
          "iopub.execute_input": "2022-11-02T22:30:22.259425Z",
          "iopub.status.busy": "2022-11-02T22:30:22.258654Z",
          "iopub.status.idle": "2022-11-02T22:30:22.266686Z",
          "shell.execute_reply": "2022-11-02T22:30:22.265723Z"
        },
        "id": "8c3e6d8a",
        "outputId": "9fd09541-63e7-4041-c492-883a986a2b38",
        "papermill": {
          "duration": 0.02482,
          "end_time": "2022-11-02T22:30:22.268659",
          "exception": false,
          "start_time": "2022-11-02T22:30:22.243839",
          "status": "completed"
        },
        "tags": []
      },
      "outputs": [
        {
          "data": {
            "text/plain": [
              "array([[[ 59,  62,  63],\n",
              "        [ 43,  46,  45],\n",
              "        [ 50,  48,  43],\n",
              "        ...,\n",
              "        [158, 132, 108],\n",
              "        [152, 125, 102],\n",
              "        [148, 124, 103]],\n",
              "\n",
              "       [[ 16,  20,  20],\n",
              "        [  0,   0,   0],\n",
              "        [ 18,   8,   0],\n",
              "        ...,\n",
              "        [123,  88,  55],\n",
              "        [119,  83,  50],\n",
              "        [122,  87,  57]],\n",
              "\n",
              "       [[ 25,  24,  21],\n",
              "        [ 16,   7,   0],\n",
              "        [ 49,  27,   8],\n",
              "        ...,\n",
              "        [118,  84,  50],\n",
              "        [120,  84,  50],\n",
              "        [109,  73,  42]],\n",
              "\n",
              "       ...,\n",
              "\n",
              "       [[208, 170,  96],\n",
              "        [201, 153,  34],\n",
              "        [198, 161,  26],\n",
              "        ...,\n",
              "        [160, 133,  70],\n",
              "        [ 56,  31,   7],\n",
              "        [ 53,  34,  20]],\n",
              "\n",
              "       [[180, 139,  96],\n",
              "        [173, 123,  42],\n",
              "        [186, 144,  30],\n",
              "        ...,\n",
              "        [184, 148,  94],\n",
              "        [ 97,  62,  34],\n",
              "        [ 83,  53,  34]],\n",
              "\n",
              "       [[177, 144, 116],\n",
              "        [168, 129,  94],\n",
              "        [179, 142,  87],\n",
              "        ...,\n",
              "        [216, 184, 140],\n",
              "        [151, 118,  84],\n",
              "        [123,  92,  72]]], dtype=uint8)"
            ]
          },
          "execution_count": 5,
          "metadata": {},
          "output_type": "execute_result"
        }
      ],
      "source": [
        "X_train[0]"
      ]
    },
    {
      "cell_type": "code",
      "execution_count": null,
      "id": "17328e8a",
      "metadata": {
        "colab": {
          "base_uri": "https://localhost:8080/"
        },
        "execution": {
          "iopub.execute_input": "2022-11-02T22:30:22.298261Z",
          "iopub.status.busy": "2022-11-02T22:30:22.297530Z",
          "iopub.status.idle": "2022-11-02T22:30:22.304292Z",
          "shell.execute_reply": "2022-11-02T22:30:22.303372Z"
        },
        "id": "17328e8a",
        "outputId": "bbe6ea0a-b9d9-4741-9594-5d2181ea01f9",
        "papermill": {
          "duration": 0.023717,
          "end_time": "2022-11-02T22:30:22.306293",
          "exception": false,
          "start_time": "2022-11-02T22:30:22.282576",
          "status": "completed"
        },
        "tags": []
      },
      "outputs": [
        {
          "data": {
            "text/plain": [
              "(32, 32, 3)"
            ]
          },
          "execution_count": 6,
          "metadata": {},
          "output_type": "execute_result"
        }
      ],
      "source": [
        "X_train[0].shape"
      ]
    },
    {
      "cell_type": "code",
      "execution_count": null,
      "id": "c2c4883e",
      "metadata": {
        "colab": {
          "base_uri": "https://localhost:8080/",
          "height": 283
        },
        "execution": {
          "iopub.execute_input": "2022-11-02T22:30:22.336352Z",
          "iopub.status.busy": "2022-11-02T22:30:22.335600Z",
          "iopub.status.idle": "2022-11-02T22:30:22.554449Z",
          "shell.execute_reply": "2022-11-02T22:30:22.553768Z"
        },
        "id": "c2c4883e",
        "outputId": "9701b6f5-804a-4b6a-e338-baa11ada0cd1",
        "papermill": {
          "duration": 0.23558,
          "end_time": "2022-11-02T22:30:22.556329",
          "exception": false,
          "start_time": "2022-11-02T22:30:22.320749",
          "status": "completed"
        },
        "tags": []
      },
      "outputs": [
        {
          "data": {
            "text/plain": [
              "<matplotlib.image.AxesImage at 0x7f96c7dca910>"
            ]
          },
          "execution_count": 7,
          "metadata": {},
          "output_type": "execute_result"
        },
        {
          "data": {
            "image/png": "[encoded data removed]",
            "text/plain": [
              "<Figure size 432x288 with 1 Axes>"
            ]
          },
          "metadata": {
            "needs_background": "light"
          },
          "output_type": "display_data"
        }
      ],
      "source": [
        "plt.imshow(X_train[0])"
      ]
    },
    {
      "cell_type": "code",
      "execution_count": null,
      "id": "ad5652b3",
      "metadata": {
        "colab": {
          "base_uri": "https://localhost:8080/",
          "height": 283
        },
        "execution": {
          "iopub.execute_input": "2022-11-02T22:30:22.588065Z",
          "iopub.status.busy": "2022-11-02T22:30:22.587224Z",
          "iopub.status.idle": "2022-11-02T22:30:22.783757Z",
          "shell.execute_reply": "2022-11-02T22:30:22.782752Z"
        },
        "id": "ad5652b3",
        "outputId": "43369d71-27cb-4c37-8476-ad1d97338a6f",
        "papermill": {
          "duration": 0.214946,
          "end_time": "2022-11-02T22:30:22.786107",
          "exception": false,
          "start_time": "2022-11-02T22:30:22.571161",
          "status": "completed"
        },
        "tags": []
      },
      "outputs": [
        {
          "data": {
            "text/plain": [
              "<matplotlib.image.AxesImage at 0x7f96c78a0ee0>"
            ]
          },
          "execution_count": 8,
          "metadata": {},
          "output_type": "execute_result"
        },
        {
          "data": {
            "image/png": "[encoded data removed]",
            "text/plain": [
              "<Figure size 432x288 with 1 Axes>"
            ]
          },
          "metadata": {
            "needs_background": "light"
          },
          "output_type": "display_data"
        }
      ],
      "source": [
        "plt.imshow(X_train[12])"
      ]
    },
    {
      "cell_type": "code",
      "execution_count": null,
      "id": "c463a07e",
      "metadata": {
        "execution": {
          "iopub.execute_input": "2022-11-02T22:30:22.820126Z",
          "iopub.status.busy": "2022-11-02T22:30:22.819807Z",
          "iopub.status.idle": "2022-11-02T22:30:23.225732Z",
          "shell.execute_reply": "2022-11-02T22:30:23.224633Z"
        },
        "id": "c463a07e",
        "papermill": {
          "duration": 0.425037,
          "end_time": "2022-11-02T22:30:23.228425",
          "exception": false,
          "start_time": "2022-11-02T22:30:22.803388",
          "status": "completed"
        },
        "tags": []
      },
      "outputs": [],
      "source": [
        "X_train = X_train/255"
      ]
    },
    {
      "cell_type": "code",
      "execution_count": null,
      "id": "356a3046",
      "metadata": {
        "execution": {
          "iopub.execute_input": "2022-11-02T22:30:23.259646Z",
          "iopub.status.busy": "2022-11-02T22:30:23.259333Z",
          "iopub.status.idle": "2022-11-02T22:30:23.345990Z",
          "shell.execute_reply": "2022-11-02T22:30:23.344792Z"
        },
        "id": "356a3046",
        "papermill": {
          "duration": 0.105046,
          "end_time": "2022-11-02T22:30:23.348624",
          "exception": false,
          "start_time": "2022-11-02T22:30:23.243578",
          "status": "completed"
        },
        "tags": []
      },
      "outputs": [],
      "source": [
        "X_test = X_test/255"
      ]
    },
    {
      "cell_type": "code",
      "execution_count": null,
      "id": "b1a9691a",
      "metadata": {
        "execution": {
          "iopub.execute_input": "2022-11-02T22:30:23.379975Z",
          "iopub.status.busy": "2022-11-02T22:30:23.379651Z",
          "iopub.status.idle": "2022-11-02T22:30:23.384520Z",
          "shell.execute_reply": "2022-11-02T22:30:23.383600Z"
        },
        "id": "b1a9691a",
        "papermill": {
          "duration": 0.022804,
          "end_time": "2022-11-02T22:30:23.386526",
          "exception": false,
          "start_time": "2022-11-02T22:30:23.363722",
          "status": "completed"
        },
        "tags": []
      },
      "outputs": [],
      "source": [
        "from tensorflow.keras.utils import to_categorical"
      ]
    },
    {
      "cell_type": "code",
      "execution_count": null,
      "id": "d049a310",
      "metadata": {
        "execution": {
          "iopub.execute_input": "2022-11-02T22:30:23.417608Z",
          "iopub.status.busy": "2022-11-02T22:30:23.416711Z",
          "iopub.status.idle": "2022-11-02T22:30:23.423279Z",
          "shell.execute_reply": "2022-11-02T22:30:23.422441Z"
        },
        "id": "d049a310",
        "papermill": {
          "duration": 0.023988,
          "end_time": "2022-11-02T22:30:23.425203",
          "exception": false,
          "start_time": "2022-11-02T22:30:23.401215",
          "status": "completed"
        },
        "tags": []
      },
      "outputs": [],
      "source": [
        "y_cat_train  = to_categorical(y_train, 10)"
      ]
    },
    {
      "cell_type": "code",
      "execution_count": null,
      "id": "77a7a041",
      "metadata": {
        "execution": {
          "iopub.execute_input": "2022-11-02T22:30:23.456308Z",
          "iopub.status.busy": "2022-11-02T22:30:23.455528Z",
          "iopub.status.idle": "2022-11-02T22:30:23.459967Z",
          "shell.execute_reply": "2022-11-02T22:30:23.459162Z"
        },
        "id": "77a7a041",
        "papermill": {
          "duration": 0.022037,
          "end_time": "2022-11-02T22:30:23.461887",
          "exception": false,
          "start_time": "2022-11-02T22:30:23.439850",
          "status": "completed"
        },
        "tags": []
      },
      "outputs": [],
      "source": [
        "y_cat_test = to_categorical(y_test, 10)"
      ]
    },
    {
      "cell_type": "code",
      "execution_count": null,
      "id": "d8c578b9",
      "metadata": {
        "execution": {
          "iopub.execute_input": "2022-11-02T22:30:23.492777Z",
          "iopub.status.busy": "2022-11-02T22:30:23.491894Z",
          "iopub.status.idle": "2022-11-02T22:30:23.496785Z",
          "shell.execute_reply": "2022-11-02T22:30:23.495982Z"
        },
        "id": "d8c578b9",
        "papermill": {
          "duration": 0.022347,
          "end_time": "2022-11-02T22:30:23.498761",
          "exception": false,
          "start_time": "2022-11-02T22:30:23.476414",
          "status": "completed"
        },
        "tags": []
      },
      "outputs": [],
      "source": [
        "from tensorflow.keras.models import Sequential"
      ]
    },
    {
      "cell_type": "code",
      "execution_count": null,
      "id": "63473341",
      "metadata": {
        "execution": {
          "iopub.execute_input": "2022-11-02T22:30:23.529843Z",
          "iopub.status.busy": "2022-11-02T22:30:23.529078Z",
          "iopub.status.idle": "2022-11-02T22:30:23.534316Z",
          "shell.execute_reply": "2022-11-02T22:30:23.533508Z"
        },
        "id": "63473341",
        "papermill": {
          "duration": 0.02293,
          "end_time": "2022-11-02T22:30:23.536261",
          "exception": false,
          "start_time": "2022-11-02T22:30:23.513331",
          "status": "completed"
        },
        "tags": []
      },
      "outputs": [],
      "source": [
        "from tensorflow.keras.layers import Dense, Conv2D, MaxPool2D, Flatten"
      ]
    },
    {
      "cell_type": "code",
      "execution_count": null,
      "id": "cbc594da",
      "metadata": {
        "execution": {
          "iopub.execute_input": "2022-11-02T22:30:23.566972Z",
          "iopub.status.busy": "2022-11-02T22:30:23.566245Z",
          "iopub.status.idle": "2022-11-02T22:30:26.347957Z",
          "shell.execute_reply": "2022-11-02T22:30:26.346962Z"
        },
        "id": "cbc594da",
        "papermill": {
          "duration": 2.799618,
          "end_time": "2022-11-02T22:30:26.350425",
          "exception": false,
          "start_time": "2022-11-02T22:30:23.550807",
          "status": "completed"
        },
        "tags": []
      },
      "outputs": [],
      "source": [
        "model = Sequential()\n",
        "\n",
        "model.add(Conv2D(filters = 32, kernel_size = (4,4), input_shape = (32, 32, 3), activation = \"relu\"))\n",
        "model.add(MaxPool2D(pool_size = (2,2)))\n",
        "\n",
        "model.add(Conv2D(filters = 64, kernel_size = (4,4), input_shape = (32, 32, 3), activation = \"relu\"))\n",
        "model.add(MaxPool2D(pool_size = (2,2)))\n",
        "\n",
        "model.add(Flatten())\n",
        "\n",
        "model.add(Dense(512, activation = \"relu\"))\n",
        "model.add(Dense(256, activation = \"relu\"))\n",
        "model.add(Dense(128, activation = \"relu\"))\n",
        "\n",
        "model.add(Dense(10, activation = \"softmax\"))\n",
        "\n",
        "model.compile(loss = \"categorical_crossentropy\", optimizer = \"adam\", metrics = [\"accuracy\"])"
      ]
    },
    {
      "cell_type": "code",
      "execution_count": null,
      "id": "d14e57a7",
      "metadata": {
        "colab": {
          "base_uri": "https://localhost:8080/"
        },
        "execution": {
          "iopub.execute_input": "2022-11-02T22:30:26.382153Z",
          "iopub.status.busy": "2022-11-02T22:30:26.381703Z",
          "iopub.status.idle": "2022-11-02T22:30:26.388345Z",
          "shell.execute_reply": "2022-11-02T22:30:26.387351Z"
        },
        "id": "d14e57a7",
        "outputId": "bada8acf-e8cf-4d8b-edea-24fec3be54f4",
        "papermill": {
          "duration": 0.025916,
          "end_time": "2022-11-02T22:30:26.391664",
          "exception": false,
          "start_time": "2022-11-02T22:30:26.365748",
          "status": "completed"
        },
        "tags": []
      },
      "outputs": [
        {
          "name": "stdout",
          "output_type": "stream",
          "text": [
            "Model: \"sequential\"\n",
            "_________________________________________________________________\n",
            " Layer (type)                Output Shape              Param #   \n",
            "=================================================================\n",
            " conv2d (Conv2D)             (None, 29, 29, 32)        1568      \n",
            "                                                                 \n",
            " max_pooling2d (MaxPooling2D  (None, 14, 14, 32)       0         \n",
            " )                                                               \n",
            "                                                                 \n",
            " conv2d_1 (Conv2D)           (None, 11, 11, 64)        32832     \n",
            "                                                                 \n",
            " max_pooling2d_1 (MaxPooling  (None, 5, 5, 64)         0         \n",
            " 2D)                                                             \n",
            "                                                                 \n",
            " flatten (Flatten)           (None, 1600)              0         \n",
            "                                                                 \n",
            " dense (Dense)               (None, 512)               819712    \n",
            "                                                                 \n",
            " dense_1 (Dense)             (None, 256)               131328    \n",
            "                                                                 \n",
            " dense_2 (Dense)             (None, 128)               32896     \n",
            "                                                                 \n",
            " dense_3 (Dense)             (None, 10)                1290      \n",
            "                                                                 \n",
            "=================================================================\n",
            "Total params: 1,019,626\n",
            "Trainable params: 1,019,626\n",
            "Non-trainable params: 0\n",
            "_________________________________________________________________\n"
          ]
        }
      ],
      "source": [
        "model.summary()"
      ]
    },
    {
      "cell_type": "code",
      "execution_count": null,
      "id": "79868dc8",
      "metadata": {
        "execution": {
          "iopub.execute_input": "2022-11-02T22:30:26.426619Z",
          "iopub.status.busy": "2022-11-02T22:30:26.425665Z",
          "iopub.status.idle": "2022-11-02T22:30:26.431140Z",
          "shell.execute_reply": "2022-11-02T22:30:26.430147Z"
        },
        "id": "79868dc8",
        "papermill": {
          "duration": 0.024412,
          "end_time": "2022-11-02T22:30:26.433223",
          "exception": false,
          "start_time": "2022-11-02T22:30:26.408811",
          "status": "completed"
        },
        "tags": []
      },
      "outputs": [],
      "source": [
        "from tensorflow.keras.callbacks import EarlyStopping"
      ]
    },
    {
      "cell_type": "code",
      "execution_count": null,
      "id": "064609f4",
      "metadata": {
        "execution": {
          "iopub.execute_input": "2022-11-02T22:30:26.465885Z",
          "iopub.status.busy": "2022-11-02T22:30:26.465330Z",
          "iopub.status.idle": "2022-11-02T22:30:26.469888Z",
          "shell.execute_reply": "2022-11-02T22:30:26.468810Z"
        },
        "id": "064609f4",
        "papermill": {
          "duration": 0.023138,
          "end_time": "2022-11-02T22:30:26.471968",
          "exception": false,
          "start_time": "2022-11-02T22:30:26.448830",
          "status": "completed"
        },
        "tags": []
      },
      "outputs": [],
      "source": [
        "early_stop = EarlyStopping(monitor = \"val_loss\", patience = 2)"
      ]
    },
    {
      "cell_type": "code",
      "execution_count": null,
      "id": "26db31be",
      "metadata": {
        "colab": {
          "base_uri": "https://localhost:8080/"
        },
        "execution": {
          "iopub.execute_input": "2022-11-02T22:30:26.505089Z",
          "iopub.status.busy": "2022-11-02T22:30:26.504259Z",
          "iopub.status.idle": "2022-11-02T22:31:19.114139Z",
          "shell.execute_reply": "2022-11-02T22:31:19.113174Z"
        },
        "id": "26db31be",
        "outputId": "6c7bc680-6dc2-4ae8-f41d-e0c0c48a6972",
        "papermill": {
          "duration": 52.628774,
          "end_time": "2022-11-02T22:31:19.116506",
          "exception": false,
          "start_time": "2022-11-02T22:30:26.487732",
          "status": "completed"
        },
        "tags": []
      },
      "outputs": [
        {
          "name": "stdout",
          "output_type": "stream",
          "text": [
            "Epoch 1/15\n",
            "1563/1563 [==============================] - 15s 5ms/step - loss: 1.5177 - accuracy: 0.4434 - val_loss: 1.2744 - val_accuracy: 0.5434\n",
            "Epoch 2/15\n",
            "1563/1563 [==============================] - 8s 5ms/step - loss: 1.1379 - accuracy: 0.5967 - val_loss: 1.1200 - val_accuracy: 0.6036\n",
            "Epoch 3/15\n",
            "1563/1563 [==============================] - 8s 5ms/step - loss: 0.9569 - accuracy: 0.6643 - val_loss: 1.0386 - val_accuracy: 0.6417\n",
            "Epoch 4/15\n",
            "1563/1563 [==============================] - 8s 5ms/step - loss: 0.8173 - accuracy: 0.7122 - val_loss: 0.9978 - val_accuracy: 0.6621\n",
            "Epoch 5/15\n",
            "1563/1563 [==============================] - 8s 5ms/step - loss: 0.6857 - accuracy: 0.7597 - val_loss: 0.9945 - val_accuracy: 0.6726\n",
            "Epoch 6/15\n",
            "1563/1563 [==============================] - 8s 5ms/step - loss: 0.5696 - accuracy: 0.7999 - val_loss: 1.0453 - val_accuracy: 0.6686\n",
            "Epoch 7/15\n",
            "1563/1563 [==============================] - 9s 6ms/step - loss: 0.4640 - accuracy: 0.8359 - val_loss: 1.0919 - val_accuracy: 0.6745\n",
            "Epoch 8/15\n",
            "1563/1563 [==============================] - 7s 5ms/step - loss: 0.3813 - accuracy: 0.8676 - val_loss: 1.1672 - val_accuracy: 0.6728\n",
            "Epoch 9/15\n",
            "1563/1563 [==============================] - 8s 5ms/step - loss: 0.3073 - accuracy: 0.8935 - val_loss: 1.2964 - val_accuracy: 0.6656\n",
            "Epoch 10/15\n",
            "1563/1563 [==============================] - 8s 5ms/step - loss: 0.2537 - accuracy: 0.9106 - val_loss: 1.4150 - val_accuracy: 0.6685\n",
            "Epoch 11/15\n",
            "1563/1563 [==============================] - 8s 5ms/step - loss: 0.2169 - accuracy: 0.9239 - val_loss: 1.5825 - val_accuracy: 0.6602\n",
            "Epoch 12/15\n",
            "1563/1563 [==============================] - 8s 5ms/step - loss: 0.1845 - accuracy: 0.9368 - val_loss: 1.6202 - val_accuracy: 0.6654\n",
            "Epoch 13/15\n",
            "1563/1563 [==============================] - 8s 5ms/step - loss: 0.1683 - accuracy: 0.9422 - val_loss: 1.7872 - val_accuracy: 0.6689\n",
            "Epoch 14/15\n",
            "1563/1563 [==============================] - 8s 5ms/step - loss: 0.1480 - accuracy: 0.9495 - val_loss: 1.7370 - val_accuracy: 0.6641\n",
            "Epoch 15/15\n",
            "1563/1563 [==============================] - 9s 5ms/step - loss: 0.1338 - accuracy: 0.9549 - val_loss: 1.9643 - val_accuracy: 0.6535\n"
          ]
        },
        {
          "data": {
            "text/plain": [
              "<keras.callbacks.History at 0x7f96c786e700>"
            ]
          },
          "execution_count": 20,
          "metadata": {},
          "output_type": "execute_result"
        }
      ],
      "source": [
        "model.fit(X_train, y_cat_train, validation_data = (X_test, y_cat_test), epochs = 15)"
      ]
    },
    {
      "cell_type": "code",
      "execution_count": null,
      "id": "a222dd08",
      "metadata": {
        "execution": {
          "iopub.execute_input": "2022-11-02T22:31:19.231137Z",
          "iopub.status.busy": "2022-11-02T22:31:19.230736Z",
          "iopub.status.idle": "2022-11-02T22:31:19.238573Z",
          "shell.execute_reply": "2022-11-02T22:31:19.237392Z"
        },
        "id": "a222dd08",
        "papermill": {
          "duration": 0.068236,
          "end_time": "2022-11-02T22:31:19.241433",
          "exception": false,
          "start_time": "2022-11-02T22:31:19.173197",
          "status": "completed"
        },
        "tags": []
      },
      "outputs": [],
      "source": [
        "metrics = pd.DataFrame(model.history.history)"
      ]
    },
    {
      "cell_type": "code",
      "execution_count": null,
      "id": "5b5b45fb",
      "metadata": {
        "colab": {
          "base_uri": "https://localhost:8080/",
          "height": 520
        },
        "execution": {
          "iopub.execute_input": "2022-11-02T22:31:19.351445Z",
          "iopub.status.busy": "2022-11-02T22:31:19.350440Z",
          "iopub.status.idle": "2022-11-02T22:31:51.252055Z",
          "shell.execute_reply": "2022-11-02T22:31:51.250987Z"
        },
        "id": "5b5b45fb",
        "outputId": "eba8a59d-e848-4c50-a81d-9ca7b1eafa14",
        "papermill": {
          "duration": 32.014325,
          "end_time": "2022-11-02T22:31:51.311384",
          "exception": false,
          "start_time": "2022-11-02T22:31:19.297059",
          "status": "completed"
        },
        "tags": []
      },
      "outputs": [
        {
          "data": {
            "text/html": [
              "\n",
              "  <div id=\"df-87253807-bac9-47f5-9d1b-5444c3493ba9\">\n",
              "    <div class=\"colab-df-container\">\n",
              "      <div>\n",
              "<style scoped>\n",
              "    .dataframe tbody tr th:only-of-type {\n",
              "        vertical-align: middle;\n",
              "    }\n",
              "\n",
              "    .dataframe tbody tr th {\n",
              "        vertical-align: top;\n",
              "    }\n",
              "\n",
              "    .dataframe thead th {\n",
              "        text-align: right;\n",
              "    }\n",
              "</style>\n",
              "<table border=\"1\" class=\"dataframe\">\n",
              "  <thead>\n",
              "    <tr style=\"text-align: right;\">\n",
              "      <th></th>\n",
              "      <th>loss</th>\n",
              "      <th>accuracy</th>\n",
              "      <th>val_loss</th>\n",
              "      <th>val_accuracy</th>\n",
              "    </tr>\n",
              "  </thead>\n",
              "  <tbody>\n",
              "    <tr>\n",
              "      <th>0</th>\n",
              "      <td>1.517692</td>\n",
              "      <td>0.44344</td>\n",
              "      <td>1.274416</td>\n",
              "      <td>0.5434</td>\n",
              "    </tr>\n",
              "    <tr>\n",
              "      <th>1</th>\n",
              "      <td>1.137943</td>\n",
              "      <td>0.59672</td>\n",
              "      <td>1.119996</td>\n",
              "      <td>0.6036</td>\n",
              "    </tr>\n",
              "    <tr>\n",
              "      <th>2</th>\n",
              "      <td>0.956868</td>\n",
              "      <td>0.66434</td>\n",
              "      <td>1.038567</td>\n",
              "      <td>0.6417</td>\n",
              "    </tr>\n",
              "    <tr>\n",
              "      <th>3</th>\n",
              "      <td>0.817273</td>\n",
              "      <td>0.71218</td>\n",
              "      <td>0.997818</td>\n",
              "      <td>0.6621</td>\n",
              "    </tr>\n",
              "    <tr>\n",
              "      <th>4</th>\n",
              "      <td>0.685723</td>\n",
              "      <td>0.75966</td>\n",
              "      <td>0.994496</td>\n",
              "      <td>0.6726</td>\n",
              "    </tr>\n",
              "    <tr>\n",
              "      <th>5</th>\n",
              "      <td>0.569565</td>\n",
              "      <td>0.79988</td>\n",
              "      <td>1.045260</td>\n",
              "      <td>0.6686</td>\n",
              "    </tr>\n",
              "    <tr>\n",
              "      <th>6</th>\n",
              "      <td>0.464034</td>\n",
              "      <td>0.83588</td>\n",
              "      <td>1.091895</td>\n",
              "      <td>0.6745</td>\n",
              "    </tr>\n",
              "    <tr>\n",
              "      <th>7</th>\n",
              "      <td>0.381272</td>\n",
              "      <td>0.86764</td>\n",
              "      <td>1.167192</td>\n",
              "      <td>0.6728</td>\n",
              "    </tr>\n",
              "    <tr>\n",
              "      <th>8</th>\n",
              "      <td>0.307319</td>\n",
              "      <td>0.89350</td>\n",
              "      <td>1.296384</td>\n",
              "      <td>0.6656</td>\n",
              "    </tr>\n",
              "    <tr>\n",
              "      <th>9</th>\n",
              "      <td>0.253664</td>\n",
              "      <td>0.91064</td>\n",
              "      <td>1.415006</td>\n",
              "      <td>0.6685</td>\n",
              "    </tr>\n",
              "    <tr>\n",
              "      <th>10</th>\n",
              "      <td>0.216867</td>\n",
              "      <td>0.92386</td>\n",
              "      <td>1.582505</td>\n",
              "      <td>0.6602</td>\n",
              "    </tr>\n",
              "    <tr>\n",
              "      <th>11</th>\n",
              "      <td>0.184500</td>\n",
              "      <td>0.93676</td>\n",
              "      <td>1.620234</td>\n",
              "      <td>0.6654</td>\n",
              "    </tr>\n",
              "    <tr>\n",
              "      <th>12</th>\n",
              "      <td>0.168256</td>\n",
              "      <td>0.94218</td>\n",
              "      <td>1.787248</td>\n",
              "      <td>0.6689</td>\n",
              "    </tr>\n",
              "    <tr>\n",
              "      <th>13</th>\n",
              "      <td>0.147988</td>\n",
              "      <td>0.94950</td>\n",
              "      <td>1.736980</td>\n",
              "      <td>0.6641</td>\n",
              "    </tr>\n",
              "    <tr>\n",
              "      <th>14</th>\n",
              "      <td>0.133794</td>\n",
              "      <td>0.95492</td>\n",
              "      <td>1.964288</td>\n",
              "      <td>0.6535</td>\n",
              "    </tr>\n",
              "  </tbody>\n",
              "</table>\n",
              "</div>\n",
              "      <button class=\"colab-df-convert\" onclick=\"convertToInteractive('df-87253807-bac9-47f5-9d1b-5444c3493ba9')\"\n",
              "              title=\"Convert this dataframe to an interactive table.\"\n",
              "              style=\"display:none;\">\n",
              "        \n",
              "  <svg xmlns=\"http://www.w3.org/2000/svg\" height=\"24px\"viewBox=\"0 0 24 24\"\n",
              "       width=\"24px\">\n",
              "    <path d=\"M0 0h24v24H0V0z\" fill=\"none\"/>\n",
              "    <path d=\"M18.56 5.44l.94 2.06.94-2.06 2.06-.94-2.06-.94-.94-2.06-.94 2.06-2.06.94zm-11 1L8.5 8.5l.94-2.06 2.06-.94-2.06-.94L8.5 2.5l-.94 2.06-2.06.94zm10 10l.94 2.06.94-2.06 2.06-.94-2.06-.94-.94-2.06-.94 2.06-2.06.94z\"/><path d=\"M17.41 7.96l-1.37-1.37c-.4-.4-.92-.59-1.43-.59-.52 0-1.04.2-1.43.59L10.3 9.45l-7.72 7.72c-.78.78-.78 2.05 0 2.83L4 21.41c.39.39.9.59 1.41.59.51 0 1.02-.2 1.41-.59l7.78-7.78 2.81-2.81c.8-.78.8-2.07 0-2.86zM5.41 20L4 18.59l7.72-7.72 1.47 1.35L5.41 20z\"/>\n",
              "  </svg>\n",
              "      </button>\n",
              "      \n",
              "  <style>\n",
              "    .colab-df-container {\n",
              "      display:flex;\n",
              "      flex-wrap:wrap;\n",
              "      gap: 12px;\n",
              "    }\n",
              "\n",
              "    .colab-df-convert {\n",
              "      background-color: #E8F0FE;\n",
              "      border: none;\n",
              "      border-radius: 50%;\n",
              "      cursor: pointer;\n",
              "      display: none;\n",
              "      fill: #1967D2;\n",
              "      height: 32px;\n",
              "      padding: 0 0 0 0;\n",
              "      width: 32px;\n",
              "    }\n",
              "\n",
              "    .colab-df-convert:hover {\n",
              "      background-color: #E2EBFA;\n",
              "      box-shadow: 0px 1px 2px rgba(60, 64, 67, 0.3), 0px 1px 3px 1px rgba(60, 64, 67, 0.15);\n",
              "      fill: #174EA6;\n",
              "    }\n",
              "\n",
              "    [theme=dark] .colab-df-convert {\n",
              "      background-color: #3B4455;\n",
              "      fill: #D2E3FC;\n",
              "    }\n",
              "\n",
              "    [theme=dark] .colab-df-convert:hover {\n",
              "      background-color: #434B5C;\n",
              "      box-shadow: 0px 1px 3px 1px rgba(0, 0, 0, 0.15);\n",
              "      filter: drop-shadow(0px 1px 2px rgba(0, 0, 0, 0.3));\n",
              "      fill: #FFFFFF;\n",
              "    }\n",
              "  </style>\n",
              "\n",
              "      <script>\n",
              "        const buttonEl =\n",
              "          document.querySelector('#df-87253807-bac9-47f5-9d1b-5444c3493ba9 button.colab-df-convert');\n",
              "        buttonEl.style.display =\n",
              "          google.colab.kernel.accessAllowed ? 'block' : 'none';\n",
              "\n",
              "        async function convertToInteractive(key) {\n",
              "          const element = document.querySelector('#df-87253807-bac9-47f5-9d1b-5444c3493ba9');\n",
              "          const dataTable =\n",
              "            await google.colab.kernel.invokeFunction('convertToInteractive',\n",
              "                                                     [key], {});\n",
              "          if (!dataTable) return;\n",
              "\n",
              "          const docLinkHtml = 'Like what you see? Visit the ' +\n",
              "            '<a target=\"_blank\" href=https://colab.research.google.com/notebooks/data_table.ipynb>data table notebook</a>'\n",
              "            + ' to learn more about interactive tables.';\n",
              "          element.innerHTML = '';\n",
              "          dataTable['output_type'] = 'display_data';\n",
              "          await google.colab.output.renderOutput(dataTable, element);\n",
              "          const docLink = document.createElement('div');\n",
              "          docLink.innerHTML = docLinkHtml;\n",
              "          element.appendChild(docLink);\n",
              "        }\n",
              "      </script>\n",
              "    </div>\n",
              "  </div>\n",
              "  "
            ],
            "text/plain": [
              "        loss  accuracy  val_loss  val_accuracy\n",
              "0   1.517692   0.44344  1.274416        0.5434\n",
              "1   1.137943   0.59672  1.119996        0.6036\n",
              "2   0.956868   0.66434  1.038567        0.6417\n",
              "3   0.817273   0.71218  0.997818        0.6621\n",
              "4   0.685723   0.75966  0.994496        0.6726\n",
              "5   0.569565   0.79988  1.045260        0.6686\n",
              "6   0.464034   0.83588  1.091895        0.6745\n",
              "7   0.381272   0.86764  1.167192        0.6728\n",
              "8   0.307319   0.89350  1.296384        0.6656\n",
              "9   0.253664   0.91064  1.415006        0.6685\n",
              "10  0.216867   0.92386  1.582505        0.6602\n",
              "11  0.184500   0.93676  1.620234        0.6654\n",
              "12  0.168256   0.94218  1.787248        0.6689\n",
              "13  0.147988   0.94950  1.736980        0.6641\n",
              "14  0.133794   0.95492  1.964288        0.6535"
            ]
          },
          "execution_count": 22,
          "metadata": {},
          "output_type": "execute_result"
        }
      ],
      "source": [
        "metrics"
      ]
    },
    {
      "cell_type": "code",
      "execution_count": null,
      "id": "33cd8748",
      "metadata": {
        "colab": {
          "base_uri": "https://localhost:8080/"
        },
        "execution": {
          "iopub.execute_input": "2022-11-02T22:31:51.424277Z",
          "iopub.status.busy": "2022-11-02T22:31:51.423594Z",
          "iopub.status.idle": "2022-11-02T22:31:51.430833Z",
          "shell.execute_reply": "2022-11-02T22:31:51.429655Z"
        },
        "id": "33cd8748",
        "outputId": "2e960289-d590-45b0-b3e1-83c63e22127b",
        "papermill": {
          "duration": 0.065703,
          "end_time": "2022-11-02T22:31:51.433265",
          "exception": false,
          "start_time": "2022-11-02T22:31:51.367562",
          "status": "completed"
        },
        "tags": []
      },
      "outputs": [
        {
          "data": {
            "text/plain": [
              "Index(['loss', 'accuracy', 'val_loss', 'val_accuracy'], dtype='object')"
            ]
          },
          "execution_count": 23,
          "metadata": {},
          "output_type": "execute_result"
        }
      ],
      "source": [
        "metrics.columns"
      ]
    },
    {
      "cell_type": "code",
      "execution_count": null,
      "id": "fd0d011c",
      "metadata": {
        "colab": {
          "base_uri": "https://localhost:8080/",
          "height": 282
        },
        "execution": {
          "iopub.execute_input": "2022-11-02T22:31:51.549047Z",
          "iopub.status.busy": "2022-11-02T22:31:51.547836Z",
          "iopub.status.idle": "2022-11-02T22:31:51.827332Z",
          "shell.execute_reply": "2022-11-02T22:31:51.826343Z"
        },
        "id": "fd0d011c",
        "outputId": "3566e59d-16fe-4c2c-f018-265892e77fb6",
        "papermill": {
          "duration": 0.34075,
          "end_time": "2022-11-02T22:31:51.829773",
          "exception": false,
          "start_time": "2022-11-02T22:31:51.489023",
          "status": "completed"
        },
        "tags": []
      },
      "outputs": [
        {
          "data": {
            "text/plain": [
              "<matplotlib.axes._subplots.AxesSubplot at 0x7f96b00efaf0>"
            ]
          },
          "execution_count": 24,
          "metadata": {},
          "output_type": "execute_result"
        },
        {
          "data": {
            "image/png": "[encoded data removed]",
            "text/plain": [
              "<Figure size 432x288 with 1 Axes>"
            ]
          },
          "metadata": {
            "needs_background": "light"
          },
          "output_type": "display_data"
        }
      ],
      "source": [
        "metrics[[\"accuracy\", \"val_accuracy\"]].plot()"
      ]
    },
    {
      "cell_type": "code",
      "execution_count": null,
      "id": "2363b804",
      "metadata": {
        "colab": {
          "base_uri": "https://localhost:8080/",
          "height": 282
        },
        "execution": {
          "iopub.execute_input": "2022-11-02T22:31:51.945174Z",
          "iopub.status.busy": "2022-11-02T22:31:51.944759Z",
          "iopub.status.idle": "2022-11-02T22:31:52.177923Z",
          "shell.execute_reply": "2022-11-02T22:31:52.176931Z"
        },
        "id": "2363b804",
        "outputId": "2b6ed738-b084-46c2-b62a-f3245c2caac8",
        "papermill": {
          "duration": 0.293758,
          "end_time": "2022-11-02T22:31:52.180233",
          "exception": false,
          "start_time": "2022-11-02T22:31:51.886475",
          "status": "completed"
        },
        "tags": []
      },
      "outputs": [
        {
          "data": {
            "text/plain": [
              "<matplotlib.axes._subplots.AxesSubplot at 0x7f96b008b1c0>"
            ]
          },
          "execution_count": 25,
          "metadata": {},
          "output_type": "execute_result"
        },
        {
          "data": {
            "image/png": "[encoded data removed]",
            "text/plain": [
              "<Figure size 432x288 with 1 Axes>"
            ]
          },
          "metadata": {
            "needs_background": "light"
          },
          "output_type": "display_data"
        }
      ],
      "source": [
        "metrics[[\"loss\", \"val_loss\"]].plot()"
      ]
    },
    {
      "cell_type": "code",
      "execution_count": null,
      "id": "1c05cd21",
      "metadata": {
        "colab": {
          "base_uri": "https://localhost:8080/"
        },
        "execution": {
          "iopub.execute_input": "2022-11-02T22:31:52.289894Z",
          "iopub.status.busy": "2022-11-02T22:31:52.289517Z",
          "iopub.status.idle": "2022-11-02T22:31:53.484233Z",
          "shell.execute_reply": "2022-11-02T22:31:53.483266Z"
        },
        "id": "1c05cd21",
        "outputId": "b43b16d4-cf6d-4f6a-ed7b-e06db0be4fe1",
        "papermill": {
          "duration": 1.252046,
          "end_time": "2022-11-02T22:31:53.486556",
          "exception": false,
          "start_time": "2022-11-02T22:31:52.234510",
          "status": "completed"
        },
        "tags": []
      },
      "outputs": [
        {
          "name": "stdout",
          "output_type": "stream",
          "text": [
            "313/313 [==============================] - 1s 4ms/step - loss: 1.9643 - accuracy: 0.6535\n"
          ]
        },
        {
          "data": {
            "text/plain": [
              "[1.9642882347106934, 0.6535000205039978]"
            ]
          },
          "execution_count": 26,
          "metadata": {},
          "output_type": "execute_result"
        }
      ],
      "source": [
        "model.evaluate(X_test, y_cat_test, verbose = 1)"
      ]
    },
    {
      "cell_type": "code",
      "execution_count": null,
      "id": "2573a6c5",
      "metadata": {
        "execution": {
          "iopub.execute_input": "2022-11-02T22:31:53.598882Z",
          "iopub.status.busy": "2022-11-02T22:31:53.597705Z",
          "iopub.status.idle": "2022-11-02T22:31:54.133360Z",
          "shell.execute_reply": "2022-11-02T22:31:54.132362Z"
        },
        "id": "2573a6c5",
        "papermill": {
          "duration": 0.594232,
          "end_time": "2022-11-02T22:31:54.135857",
          "exception": false,
          "start_time": "2022-11-02T22:31:53.541625",
          "status": "completed"
        },
        "tags": []
      },
      "outputs": [],
      "source": [
        "from sklearn.metrics import classification_report, confusion_matrix"
      ]
    },
    {
      "cell_type": "code",
      "execution_count": null,
      "id": "2d9911df",
      "metadata": {
        "colab": {
          "base_uri": "https://localhost:8080/"
        },
        "execution": {
          "iopub.execute_input": "2022-11-02T22:31:54.260147Z",
          "iopub.status.busy": "2022-11-02T22:31:54.259734Z",
          "iopub.status.idle": "2022-11-02T22:31:55.367184Z",
          "shell.execute_reply": "2022-11-02T22:31:55.366189Z"
        },
        "id": "2d9911df",
        "outputId": "e041ab79-2cdf-42cd-b418-fe405ccf1dc0",
        "papermill": {
          "duration": 1.169936,
          "end_time": "2022-11-02T22:31:55.369756",
          "exception": false,
          "start_time": "2022-11-02T22:31:54.199820",
          "status": "completed"
        },
        "tags": []
      },
      "outputs": [
        {
          "name": "stdout",
          "output_type": "stream",
          "text": [
            "313/313 [==============================] - 1s 2ms/step\n"
          ]
        }
      ],
      "source": [
        "predict_x=model.predict(X_test) \n",
        "classes_x=np.argmax(predict_x,axis=1)"
      ]
    },
    {
      "cell_type": "code",
      "execution_count": null,
      "id": "a1935cf2",
      "metadata": {
        "colab": {
          "base_uri": "https://localhost:8080/"
        },
        "execution": {
          "iopub.execute_input": "2022-11-02T22:31:55.485282Z",
          "iopub.status.busy": "2022-11-02T22:31:55.484543Z",
          "iopub.status.idle": "2022-11-02T22:31:55.514281Z",
          "shell.execute_reply": "2022-11-02T22:31:55.512807Z"
        },
        "id": "a1935cf2",
        "outputId": "f3608a4b-5366-41c4-93ba-13c7e1cb8b6d",
        "papermill": {
          "duration": 0.092316,
          "end_time": "2022-11-02T22:31:55.517718",
          "exception": false,
          "start_time": "2022-11-02T22:31:55.425402",
          "status": "completed"
        },
        "tags": []
      },
      "outputs": [
        {
          "name": "stdout",
          "output_type": "stream",
          "text": [
            "              precision    recall  f1-score   support\n",
            "\n",
            "           0       0.71      0.68      0.69      1000\n",
            "           1       0.79      0.77      0.78      1000\n",
            "           2       0.60      0.44      0.51      1000\n",
            "           3       0.49      0.47      0.48      1000\n",
            "           4       0.60      0.60      0.60      1000\n",
            "           5       0.51      0.60      0.55      1000\n",
            "           6       0.74      0.70      0.72      1000\n",
            "           7       0.67      0.72      0.70      1000\n",
            "           8       0.77      0.74      0.76      1000\n",
            "           9       0.66      0.81      0.73      1000\n",
            "\n",
            "    accuracy                           0.65     10000\n",
            "   macro avg       0.66      0.65      0.65     10000\n",
            "weighted avg       0.66      0.65      0.65     10000\n",
            "\n"
          ]
        }
      ],
      "source": [
        "print(classification_report(y_test, classes_x))"
      ]
    },
    {
      "cell_type": "code",
      "execution_count": null,
      "id": "5c9b566f",
      "metadata": {
        "colab": {
          "base_uri": "https://localhost:8080/"
        },
        "execution": {
          "iopub.execute_input": "2022-11-02T22:31:55.644892Z",
          "iopub.status.busy": "2022-11-02T22:31:55.644512Z",
          "iopub.status.idle": "2022-11-02T22:31:55.657009Z",
          "shell.execute_reply": "2022-11-02T22:31:55.656046Z"
        },
        "id": "5c9b566f",
        "outputId": "7bdebe4b-cdaf-4af4-cb9d-5cfd712ab005",
        "papermill": {
          "duration": 0.077617,
          "end_time": "2022-11-02T22:31:55.659242",
          "exception": false,
          "start_time": "2022-11-02T22:31:55.581625",
          "status": "completed"
        },
        "tags": []
      },
      "outputs": [
        {
          "data": {
            "text/plain": [
              "array([[682,  22,  51,  21,  31,  19,  11,  23,  76,  64],\n",
              "       [ 26, 767,  10,   6,   3,   7,  12,   9,  41, 119],\n",
              "       [ 65,  12, 440,  95, 101, 120,  73,  56,  21,  17],\n",
              "       [ 26,  13,  44, 466,  85, 199,  51,  58,  22,  36],\n",
              "       [ 22,   8,  65,  84, 602,  70,  51,  75,   9,  14],\n",
              "       [ 15,  12,  39, 156,  51, 596,  19,  85,  10,  17],\n",
              "       [  8,   5,  39,  69,  50,  64, 705,  19,   7,  34],\n",
              "       [ 17,  12,  22,  37,  57,  72,   8, 725,   7,  43],\n",
              "       [ 81,  35,  14,  13,  14,  11,   7,  13, 745,  67],\n",
              "       [ 24,  81,   7,  13,   7,  13,  11,  13,  24, 807]])"
            ]
          },
          "execution_count": 30,
          "metadata": {},
          "output_type": "execute_result"
        }
      ],
      "source": [
        "confusion_matrix(y_test, classes_x)"
      ]
    },
    {
      "cell_type": "code",
      "execution_count": null,
      "id": "d82917e6",
      "metadata": {
        "colab": {
          "base_uri": "https://localhost:8080/",
          "height": 392
        },
        "execution": {
          "iopub.execute_input": "2022-11-02T22:31:55.783030Z",
          "iopub.status.busy": "2022-11-02T22:31:55.782627Z",
          "iopub.status.idle": "2022-11-02T22:31:56.661885Z",
          "shell.execute_reply": "2022-11-02T22:31:56.660874Z"
        },
        "id": "d82917e6",
        "outputId": "4d793388-a7fb-4174-ae15-e5913590f5e1",
        "papermill": {
          "duration": 0.942819,
          "end_time": "2022-11-02T22:31:56.664181",
          "exception": false,
          "start_time": "2022-11-02T22:31:55.721362",
          "status": "completed"
        },
        "tags": []
      },
      "outputs": [
        {
          "data": {
            "text/plain": [
              "<matplotlib.axes._subplots.AxesSubplot at 0x7f96c785d220>"
            ]
          },
          "execution_count": 31,
          "metadata": {},
          "output_type": "execute_result"
        },
        {
          "data": {
            "image/png": "[encoded data removed]",
            "text/plain": [
              "<Figure size 720x432 with 2 Axes>"
            ]
          },
          "metadata": {
            "needs_background": "light"
          },
          "output_type": "display_data"
        }
      ],
      "source": [
        "import seaborn as sns\n",
        "plt.figure(figsize = (10, 6))\n",
        "sns.heatmap(confusion_matrix(y_test, classes_x), annot = True)"
      ]
    },
    {
      "cell_type": "code",
      "execution_count": null,
      "id": "2626c671",
      "metadata": {
        "execution": {
          "iopub.execute_input": "2022-11-02T22:31:56.784503Z",
          "iopub.status.busy": "2022-11-02T22:31:56.784129Z",
          "iopub.status.idle": "2022-11-02T22:31:56.789048Z",
          "shell.execute_reply": "2022-11-02T22:31:56.787929Z"
        },
        "id": "2626c671",
        "papermill": {
          "duration": 0.06825,
          "end_time": "2022-11-02T22:31:56.791554",
          "exception": false,
          "start_time": "2022-11-02T22:31:56.723304",
          "status": "completed"
        },
        "tags": []
      },
      "outputs": [],
      "source": [
        "my_image = X_test[0]"
      ]
    },
    {
      "cell_type": "code",
      "execution_count": null,
      "id": "74cb498a",
      "metadata": {
        "colab": {
          "base_uri": "https://localhost:8080/"
        },
        "execution": {
          "iopub.execute_input": "2022-11-02T22:31:56.921453Z",
          "iopub.status.busy": "2022-11-02T22:31:56.920942Z",
          "iopub.status.idle": "2022-11-02T22:31:56.935983Z",
          "shell.execute_reply": "2022-11-02T22:31:56.934687Z"
        },
        "id": "74cb498a",
        "outputId": "09767162-72b2-41fd-eedb-5e0636476b89",
        "papermill": {
          "duration": 0.090879,
          "end_time": "2022-11-02T22:31:56.941344",
          "exception": false,
          "start_time": "2022-11-02T22:31:56.850465",
          "status": "completed"
        },
        "tags": []
      },
      "outputs": [
        {
          "data": {
            "text/plain": [
              "array([[[0.61960784, 0.43921569, 0.19215686],\n",
              "        [0.62352941, 0.43529412, 0.18431373],\n",
              "        [0.64705882, 0.45490196, 0.2       ],\n",
              "        ...,\n",
              "        [0.5372549 , 0.37254902, 0.14117647],\n",
              "        [0.49411765, 0.35686275, 0.14117647],\n",
              "        [0.45490196, 0.33333333, 0.12941176]],\n",
              "\n",
              "       [[0.59607843, 0.43921569, 0.2       ],\n",
              "        [0.59215686, 0.43137255, 0.15686275],\n",
              "        [0.62352941, 0.44705882, 0.17647059],\n",
              "        ...,\n",
              "        [0.53333333, 0.37254902, 0.12156863],\n",
              "        [0.49019608, 0.35686275, 0.1254902 ],\n",
              "        [0.46666667, 0.34509804, 0.13333333]],\n",
              "\n",
              "       [[0.59215686, 0.43137255, 0.18431373],\n",
              "        [0.59215686, 0.42745098, 0.12941176],\n",
              "        [0.61960784, 0.43529412, 0.14117647],\n",
              "        ...,\n",
              "        [0.54509804, 0.38431373, 0.13333333],\n",
              "        [0.50980392, 0.37254902, 0.13333333],\n",
              "        [0.47058824, 0.34901961, 0.12941176]],\n",
              "\n",
              "       ...,\n",
              "\n",
              "       [[0.26666667, 0.48627451, 0.69411765],\n",
              "        [0.16470588, 0.39215686, 0.58039216],\n",
              "        [0.12156863, 0.34509804, 0.5372549 ],\n",
              "        ...,\n",
              "        [0.14901961, 0.38039216, 0.57254902],\n",
              "        [0.05098039, 0.25098039, 0.42352941],\n",
              "        [0.15686275, 0.33333333, 0.49803922]],\n",
              "\n",
              "       [[0.23921569, 0.45490196, 0.65882353],\n",
              "        [0.19215686, 0.4       , 0.58039216],\n",
              "        [0.1372549 , 0.33333333, 0.51764706],\n",
              "        ...,\n",
              "        [0.10196078, 0.32156863, 0.50980392],\n",
              "        [0.11372549, 0.32156863, 0.49411765],\n",
              "        [0.07843137, 0.25098039, 0.41960784]],\n",
              "\n",
              "       [[0.21176471, 0.41960784, 0.62745098],\n",
              "        [0.21960784, 0.41176471, 0.58431373],\n",
              "        [0.17647059, 0.34901961, 0.51764706],\n",
              "        ...,\n",
              "        [0.09411765, 0.30196078, 0.48627451],\n",
              "        [0.13333333, 0.32941176, 0.50588235],\n",
              "        [0.08235294, 0.2627451 , 0.43137255]]])"
            ]
          },
          "execution_count": 33,
          "metadata": {},
          "output_type": "execute_result"
        }
      ],
      "source": [
        "my_image"
      ]
    },
    {
      "cell_type": "code",
      "execution_count": null,
      "id": "b81dac07",
      "metadata": {
        "colab": {
          "base_uri": "https://localhost:8080/",
          "height": 283
        },
        "execution": {
          "iopub.execute_input": "2022-11-02T22:31:57.146914Z",
          "iopub.status.busy": "2022-11-02T22:31:57.146440Z",
          "iopub.status.idle": "2022-11-02T22:31:57.382184Z",
          "shell.execute_reply": "2022-11-02T22:31:57.381056Z"
        },
        "id": "b81dac07",
        "outputId": "cfd5a8f4-d462-4eac-b68a-7be50a0475c5",
        "papermill": {
          "duration": 0.328124,
          "end_time": "2022-11-02T22:31:57.385387",
          "exception": false,
          "start_time": "2022-11-02T22:31:57.057263",
          "status": "completed"
        },
        "tags": []
      },
      "outputs": [
        {
          "data": {
            "text/plain": [
              "<matplotlib.image.AxesImage at 0x7f9609b90af0>"
            ]
          },
          "execution_count": 34,
          "metadata": {},
          "output_type": "execute_result"
        },
        {
          "data": {
            "image/png": "[encoded data removed]",
            "text/plain": [
              "<Figure size 432x288 with 1 Axes>"
            ]
          },
          "metadata": {
            "needs_background": "light"
          },
          "output_type": "display_data"
        }
      ],
      "source": [
        "plt.imshow(my_image)"
      ]
    },
    {
      "cell_type": "code",
      "execution_count": null,
      "id": "2b696e5d",
      "metadata": {
        "colab": {
          "base_uri": "https://localhost:8080/"
        },
        "execution": {
          "iopub.execute_input": "2022-11-02T22:31:57.561525Z",
          "iopub.status.busy": "2022-11-02T22:31:57.561047Z",
          "iopub.status.idle": "2022-11-02T22:31:57.571804Z",
          "shell.execute_reply": "2022-11-02T22:31:57.570625Z"
        },
        "id": "2b696e5d",
        "outputId": "60ddec90-60b2-4e5a-881a-d0cc2974df20",
        "papermill": {
          "duration": 0.106871,
          "end_time": "2022-11-02T22:31:57.579545",
          "exception": false,
          "start_time": "2022-11-02T22:31:57.472674",
          "status": "completed"
        },
        "tags": []
      },
      "outputs": [
        {
          "data": {
            "text/plain": [
              "array([3], dtype=uint8)"
            ]
          },
          "execution_count": 35,
          "metadata": {},
          "output_type": "execute_result"
        }
      ],
      "source": [
        "y_test[0]"
      ]
    },
    {
      "cell_type": "code",
      "execution_count": null,
      "id": "a77e9aaa",
      "metadata": {
        "colab": {
          "base_uri": "https://localhost:8080/"
        },
        "execution": {
          "iopub.execute_input": "2022-11-02T22:31:57.698126Z",
          "iopub.status.busy": "2022-11-02T22:31:57.697729Z",
          "iopub.status.idle": "2022-11-02T22:31:57.756052Z",
          "shell.execute_reply": "2022-11-02T22:31:57.754934Z"
        },
        "id": "a77e9aaa",
        "outputId": "f39e5906-dbe6-4cd4-80b7-0043ddd54dfb",
        "papermill": {
          "duration": 0.11825,
          "end_time": "2022-11-02T22:31:57.758451",
          "exception": false,
          "start_time": "2022-11-02T22:31:57.640201",
          "status": "completed"
        },
        "tags": []
      },
      "outputs": [
        {
          "name": "stdout",
          "output_type": "stream",
          "text": [
            "1/1 [==============================] - 0s 51ms/step\n"
          ]
        },
        {
          "data": {
            "text/plain": [
              "array([[0.00389997, 0.38049385, 0.00861014, 0.15762436, 0.00051448,\n",
              "        0.12101424, 0.02960058, 0.00325681, 0.22205517, 0.07293039]],\n",
              "      dtype=float32)"
            ]
          },
          "execution_count": 36,
          "metadata": {},
          "output_type": "execute_result"
        }
      ],
      "source": [
        "model.predict(my_image.reshape(1, 32, 32, 3))"
      ]
    },
    {
      "cell_type": "code",
      "execution_count": null,
      "id": "2396d34a",
      "metadata": {
        "id": "2396d34a",
        "papermill": {
          "duration": 0.060098,
          "end_time": "2022-11-02T22:31:57.880664",
          "exception": false,
          "start_time": "2022-11-02T22:31:57.820566",
          "status": "completed"
        },
        "tags": []
      },
      "outputs": [],
      "source": []
    }
  ],
  "metadata": {
    "accelerator": "GPU",
    "colab": {
      "provenance": []
    },
    "gpuClass": "standard",
    "kernelspec": {
      "display_name": "Python 3",
      "language": "python",
      "name": "python3"
    },
    "language_info": {
      "codemirror_mode": {
        "name": "ipython",
        "version": 3
      },
      "file_extension": ".py",
      "mimetype": "text/x-python",
      "name": "python",
      "nbconvert_exporter": "python",
      "pygments_lexer": "ipython3",
      "version": "3.9.7 (tags/v3.9.7:1016ef3, Aug 30 2021, 20:19:38) [MSC v.1929 64 bit (AMD64)]"
    },
    "papermill": {
      "default_parameters": {},
      "duration": 126.390843,
      "end_time": "2022-11-02T22:32:01.227759",
      "environment_variables": {},
      "exception": null,
      "input_path": "__notebook__.ipynb",
      "output_path": "__notebook__.ipynb",
      "parameters": {},
      "start_time": "2022-11-02T22:29:54.836916",
      "version": "2.3.4"
    },
    "vscode": {
      "interpreter": {
        "hash": "e42b2ccb67b99ad21265aed3e7d615f64c66f1c316dfe5703bb24cc17e355247"
      }
    }
  },
  "nbformat": 4,
  "nbformat_minor": 5
}
